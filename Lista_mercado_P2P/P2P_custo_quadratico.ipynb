{
 "cells": [
  {
   "cell_type": "code",
   "execution_count": 1,
   "metadata": {},
   "outputs": [],
   "source": [
    "import numpy as np\n",
    "import pandas as pd\n",
    "import matplotlib.pyplot as plt\n",
    "from pyomo.environ import *"
   ]
  },
  {
   "cell_type": "code",
   "execution_count": 2,
   "metadata": {},
   "outputs": [],
   "source": [
    "#Dados de Entrada\n",
    "agents = ['Cons 1', 'Cons 2', 'Prod A', 'Prod B']\n",
    "Na = len(agents)\n",
    "p_max = [100, 50, 100, 80]\n",
    "p_min = [0, 0, 0, 0]\n",
    "agent_sign = [1, 1, -1, -1] #1: Consumer; -1: Producer\n",
    "agent_conexion = pd.DataFrame([[0, 0, 1, 1],\n",
    "                               [0, 0, 1, 1],\n",
    "                               [1, 1, 0, 0],\n",
    "                               [1, 1, 0, 0]], columns=agents, index=agents)\n",
    "agent_conexion_dict = {(agents[i], agents[j]): agent_conexion.loc[agents[i], agents[j]] for i in range(Na) for j in range(Na)}\n",
    "Ng = sum(1 for p in agent_sign if p == -1)\n",
    "Nc = sum(1 for p in agent_sign if p == 1)\n",
    "c_ener_a = [-0.1, -0.3, 0.1, 0.2]\n",
    "c_ener_b = [40, 35, 12, 20]"
   ]
  },
  {
   "cell_type": "code",
   "execution_count": 3,
   "metadata": {},
   "outputs": [],
   "source": [
    "model = ConcreteModel()\n",
    "\n",
    "#Sets:\n",
    "model.agent = Set(initialize = agents)\n",
    "\n",
    "#Parâmetros:\n",
    "model.p_max = Param(model.agent, initialize = {agents[i]: p_max[i] for i in range(Na)})\n",
    "model.p_min = Param(model.agent, initialize = {agents[i]: p_min[i] for i in range(Na)})\n",
    "model.agent_sign = Param(model.agent, initialize = {agents[i]: agent_sign[i] for i in range(Na)})\n",
    "model.c_ener_a = Param(model.agent, initialize = {agents[i]: c_ener_a[i] for i in range(Na)})\n",
    "model.c_ener_b = Param(model.agent, initialize = {agents[i]: c_ener_b[i] for i in range(Na)})\n",
    "model.agent_conexion = Param(model.agent, model.agent, initialize = agent_conexion_dict)"
   ]
  },
  {
   "cell_type": "code",
   "execution_count": 4,
   "metadata": {},
   "outputs": [],
   "source": [
    "#Variáveis:\n",
    "model.p = Var(model.agent, model.agent, domain = NonNegativeReals)\n",
    "model.P_agente = Var(model.agent, domain = NonNegativeReals)"
   ]
  },
  {
   "cell_type": "code",
   "execution_count": 5,
   "metadata": {},
   "outputs": [],
   "source": [
    "#Restrições:\n",
    "def limites_tecnicos_rule(model, agente):\n",
    "    return (model.p_min[agente], model.P_agente[agente], model.p_max[agente])\n",
    "model.limites_tecnicos = Constraint(model.agent, rule = limites_tecnicos_rule)\n",
    "\n",
    "def balanco_individual(model, agente):\n",
    "    return sum(model.p[agente, j] for j in model.agent) == model.P_agente[agente]\n",
    "model.balanco_individual = Constraint(model.agent, rule = balanco_individual)\n",
    "\n",
    "def balanco_rule(model, agente1, agente2):\n",
    "    if agente1 >= agente2:\n",
    "        return Constraint.Skip\n",
    "    elif model.agent_sign[agente1] == model.agent_sign[agente2]:\n",
    "        return Constraint.Skip\n",
    "    else:\n",
    "        return model.p[agente1, agente2] == model.p[agente2, agente1]\n",
    "model.balanco = Constraint(model.agent, model.agent, rule = balanco_rule)\n",
    "\n",
    "def no_arbitrage_rule(model, agente1, agente2):\n",
    "    if model.agent_sign[agente1] == model.agent_sign[agente2]:\n",
    "        return model.p[agente1, agente2] == 0\n",
    "    else:\n",
    "        return Constraint.Skip\n",
    "model.no_arbitrage = Constraint(model.agent, model.agent, rule = no_arbitrage_rule)"
   ]
  },
  {
   "cell_type": "code",
   "execution_count": 6,
   "metadata": {},
   "outputs": [],
   "source": [
    "#Função Objetivo:\n",
    "def objective_rule(model):\n",
    "    return sum(model.agent_sign[agente] * (model.c_ener_a[agente]/2 * model.P_agente[agente]**2 + model.c_ener_b[agente] * model.P_agente[agente])  for agente in model.agent)\n",
    "model.objective = Objective(rule = objective_rule, sense = maximize)"
   ]
  },
  {
   "cell_type": "code",
   "execution_count": 7,
   "metadata": {},
   "outputs": [],
   "source": [
    "solver = SolverFactory('ipopt')\n",
    "# solver = SolverFactory('ipopt',executable='/content/ipopt')\n",
    "model.dual = Suffix(direction=Suffix.IMPORT)\n",
    "resultados = solver.solve(model, tee=False)"
   ]
  },
  {
   "cell_type": "code",
   "execution_count": 8,
   "metadata": {},
   "outputs": [
    {
     "name": "stdout",
     "output_type": "stream",
     "text": [
      "Status Final do Problema de Otimização: ok \n",
      "\n",
      "Condição de Término: optimal \n",
      "\n",
      "Resultado Função Objetivo: 2025.000007990643 \n",
      "\n",
      " Energia do Cons 1 para Cons 1: 0.0\n",
      " Energia do Cons 1 para Cons 2: 0.0\n",
      " Energia do Cons 1 para Prod A: 83.59999866022324\n",
      " Energia do Cons 1 para Prod B: 16.400002338064045\n",
      "\n",
      "\n",
      " Energia do Cons 2 para Cons 1: 0.0\n",
      " Energia do Cons 2 para Cons 2: 0.0\n",
      " Energia do Cons 2 para Prod A: 16.400002339150284\n",
      " Energia do Cons 2 para Prod B: 13.599997662756707\n",
      "\n",
      "\n",
      " Energia do Prod A para Cons 1: 83.59999866022324\n",
      " Energia do Prod A para Cons 2: 16.400002339150284\n",
      " Energia do Prod A para Prod A: 0.0\n",
      " Energia do Prod A para Prod B: 0.0\n",
      "\n",
      "\n",
      " Energia do Prod B para Cons 1: 16.400002338064045\n",
      " Energia do Prod B para Cons 2: 13.599997662756707\n",
      " Energia do Prod B para Prod A: 0.0\n",
      " Energia do Prod B para Prod B: 0.0\n",
      "\n",
      "\n",
      "Dual para restrição de balanço Cons 1-Prod A: 25.999999999837716\n",
      "Dual para restrição de balanço Cons 1-Prod B: 25.999999999927407\n",
      "Dual para restrição de balanço Cons 2-Prod A: 25.999999999690928\n",
      "Dual para restrição de balanço Cons 2-Prod B: 25.99999999978062\n",
      "\n",
      "\n",
      "Energia do Cons 1: 100.00000099828728\n",
      "Energia do Cons 2: 30.00000000190699\n",
      "Energia do Prod A: 100.00000099937353\n",
      "Energia do Prod B: 30.00000000082075\n"
     ]
    }
   ],
   "source": [
    "# Relatório dos resultados de otimização\n",
    "print('Status Final do Problema de Otimização:', resultados.solver.status, '\\n')\n",
    "print('Condição de Término:', resultados.solver.termination_condition, '\\n')\n",
    "print('Resultado Função Objetivo:', value(model.objective), '\\n')\n",
    "\n",
    "#Variáveis:\n",
    "for i in model.agent:\n",
    "    for j in model.agent:\n",
    "        print(f' Energia do {i} para {j}: {value(model.p[i,j])}')\n",
    "    print('\\n')\n",
    "\n",
    "#Print dos CMO:\n",
    "for (i, j) in model.balanco:\n",
    "    print(f'Dual para restrição de balanço {i}-{j}: {model.dual[model.balanco[i, j]]}')\n",
    "print('\\n')\n",
    "#Print das energias individuais:\n",
    "for i in model.agent:\n",
    "    print(f'Energia do {i}: {value(model.P_agente[i])}')"
   ]
  }
 ],
 "metadata": {
  "kernelspec": {
   "display_name": ".venv",
   "language": "python",
   "name": "python3"
  },
  "language_info": {
   "codemirror_mode": {
    "name": "ipython",
    "version": 3
   },
   "file_extension": ".py",
   "mimetype": "text/x-python",
   "name": "python",
   "nbconvert_exporter": "python",
   "pygments_lexer": "ipython3",
   "version": "3.13.0"
  }
 },
 "nbformat": 4,
 "nbformat_minor": 2
}
