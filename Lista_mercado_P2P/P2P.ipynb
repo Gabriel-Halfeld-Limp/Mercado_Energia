{
 "cells": [
  {
   "cell_type": "code",
   "execution_count": 3,
   "metadata": {},
   "outputs": [],
   "source": [
    "import numpy as np\n",
    "import pandas as pd\n",
    "import matplotlib.pyplot as plt\n",
    "from pyomo.environ import *"
   ]
  },
  {
   "cell_type": "code",
   "execution_count": 4,
   "metadata": {},
   "outputs": [],
   "source": [
    "# Dados Entrada\n",
    "\n",
    "ger = ['Produtor A', 'Produtor B']\n",
    "Ng = len(ger)\n",
    "pmax_ter = [100, 80] # MW\n",
    "c_ener_ger = [12, 20]\n",
    "\n",
    "loads = ['Consumidor 1', 'Consumidor 2']\n",
    "Nc = len(loads)\n",
    "demanda_energia = [100, 50]\n",
    "c_ener_load = [40, 35]\n",
    "\n",
    "c = [0, 0.5, 2, 5]"
   ]
  },
  {
   "cell_type": "code",
   "execution_count": 5,
   "metadata": {},
   "outputs": [],
   "source": [
    "# Criar Modelo Concreto\n",
    "model = ConcreteModel()\n",
    "\n",
    "#Geradores Térmicos:\n",
    "model.ger = Set(initialize=ger)\n",
    "model.c_ener_ger = Param(model.ger, initialize={ger[i]: c_ener_ger[i] for i in range(Ng)})\n",
    "model.pmax_ter = Param(model.ger, initialize={ger[i]: pmax_ter[i] for i in range(Ng)})\n",
    "\n",
    "#Cargas:\n",
    "model.loads = Set(initialize=loads)\n",
    "model.dem = Param(model.loads, initialize={loads[i]: demanda_energia[i] for i in range(Nc)})\n",
    "model.c_ener_load = Param(model.loads, initialize={loads[i]: c_ener_load[i] for i in range(Nc)})"
   ]
  },
  {
   "cell_type": "code",
   "execution_count": 6,
   "metadata": {},
   "outputs": [],
   "source": [
    "# Declarar Variáveis\n",
    "model.P_ger = Var(model.ger, model.loads, domain=NonNegativeReals)\n",
    "model.P_load = Var(model.loads, model.ger, domain=NonNegativeReals)"
   ]
  },
  {
   "cell_type": "code",
   "execution_count": 7,
   "metadata": {},
   "outputs": [],
   "source": [
    "#Restrições:\n",
    "def balanco(model, ger, load):\n",
    "    return model.P_load[load, ger] == model.P_ger[ger, load]\n",
    "model.balanco = Constraint(model.ger, model.loads, rule=balanco)\n",
    "\n",
    "def limite_ger(model, ger):\n",
    "    return sum(model.P_ger[ger, i] for i in model.loads) <= model.pmax_ter[ger]\n",
    "model.limite_ger = Constraint(model.ger, rule=limite_ger)\n",
    "\n",
    "def limite_load(model, load):\n",
    "    return sum(model.P_load[load, i] for i in model.ger) <= model.dem[load]\n",
    "model.limite_load = Constraint(model.loads, rule=limite_load)"
   ]
  },
  {
   "cell_type": "code",
   "execution_count": 8,
   "metadata": {},
   "outputs": [],
   "source": [
    "#Função Objetivo:\n",
    "def objective_function(model):\n",
    "    energy_sell = sum(model.c_ener_ger[i] * model.P_ger[i, j] for i in model.ger for j in model.loads)\n",
    "    energy_buy = sum(model.c_ener_load[j] * model.P_load[j, i] for j in model.loads for i in model.ger)\n",
    "\n",
    "    return energy_buy - energy_sell\n",
    "\n",
    "model.objective = Objective(rule=objective_function, sense=maximize)"
   ]
  },
  {
   "cell_type": "code",
   "execution_count": 9,
   "metadata": {},
   "outputs": [],
   "source": [
    "solver = SolverFactory('glpk')\n",
    "# solver = SolverFactory('ipopt',executable='/content/ipopt')\n",
    "model.dual = Suffix(direction=Suffix.IMPORT)\n",
    "resultados = solver.solve(model, tee=False)"
   ]
  },
  {
   "cell_type": "code",
   "execution_count": 10,
   "metadata": {},
   "outputs": [
    {
     "name": "stdout",
     "output_type": "stream",
     "text": [
      "Status Final do Problema de Otimização: ok \n",
      "\n",
      "Condição de Término: optimal \n",
      "\n",
      "Resultado Função Objetivo: 3550.0 \n",
      "\n",
      "Energia Vendida do Produtor A para o Consumidor 1: 100.0\n",
      "Energia Vendida do Produtor A para o Consumidor 2: 0.0\n",
      "Energia Vendida do Produtor B para o Consumidor 1: 0.0\n",
      "Energia Vendida do Produtor B para o Consumidor 2: 50.0\n",
      "Energia Comprada do Produtor A para o Consumidor 1: 100.0\n",
      "Energia Comprada do Produtor B para o Consumidor 1: 0.0\n",
      "Energia Comprada do Produtor A para o Consumidor 2: 0.0\n",
      "Energia Comprada do Produtor B para o Consumidor 2: 50.0\n",
      "Venda total do Produtor A: 1200.0\n",
      "Venda total do Produtor B: 1000.0\n",
      "Compra total do Consumidor 1: 4000.0\n",
      "Compra total do Consumidor 2: 1750.0\n",
      "Dual para restrição de balanço Produtor A-Consumidor 1: 20.0\n",
      "Dual para restrição de balanço Produtor A-Consumidor 2: 20.0\n",
      "Dual para restrição de balanço Produtor B-Consumidor 1: 20.0\n",
      "Dual para restrição de balanço Produtor B-Consumidor 2: 20.0\n"
     ]
    }
   ],
   "source": [
    "# Relatório dos resultados de otimização\n",
    "print('Status Final do Problema de Otimização:', resultados.solver.status, '\\n')\n",
    "print('Condição de Término:', resultados.solver.termination_condition, '\\n')\n",
    "print('Resultado Função Objetivo:', value(model.objective), '\\n')\n",
    "\n",
    "#Energias Vendidas\n",
    "\n",
    "for i in model.ger:\n",
    "    for j in model.loads:\n",
    "        print(f'Energia Vendida do {i} para o {j}:', value(model.P_ger[i,j]))\n",
    "\n",
    "for j in model.loads:\n",
    "    for i in model.ger:\n",
    "        print(f'Energia Comprada do {i} para o {j}:', value(model.P_load[j,i]))\n",
    "\n",
    "#Venda total dos geradores em $:\n",
    "for i in model.ger:\n",
    "    total = sum(value(model.P_ger[i,j]) * model.c_ener_ger[i] for j in model.loads)\n",
    "    print(f'Venda total do {i}:', total)\n",
    "\n",
    "#Compra total das cargas em $:\n",
    "for j in model.loads:\n",
    "    total = sum(value(model.P_load[j,i]) * model.c_ener_load[j] for i in model.ger)\n",
    "    print(f'Compra total do {j}:', total)\n",
    "\n",
    "# Impressão dos preços sombra\n",
    "for (ger, load) in model.balanco:\n",
    "    print(f\"Dual para restrição de balanço {ger}-{load}: {model.dual[model.balanco[ger, load]]}\")"
   ]
  }
 ],
 "metadata": {
  "kernelspec": {
   "display_name": ".venv",
   "language": "python",
   "name": "python3"
  },
  "language_info": {
   "codemirror_mode": {
    "name": "ipython",
    "version": 3
   },
   "file_extension": ".py",
   "mimetype": "text/x-python",
   "name": "python",
   "nbconvert_exporter": "python",
   "pygments_lexer": "ipython3",
   "version": "3.13.0"
  }
 },
 "nbformat": 4,
 "nbformat_minor": 2
}
