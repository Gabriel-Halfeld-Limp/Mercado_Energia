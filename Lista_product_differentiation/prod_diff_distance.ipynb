{
 "cells": [
  {
   "cell_type": "code",
   "execution_count": 10,
   "metadata": {},
   "outputs": [],
   "source": [
    "import numpy as np\n",
    "import pandas as pd\n",
    "import matplotlib.pyplot as plt\n",
    "from pyomo.environ import *"
   ]
  },
  {
   "cell_type": "code",
   "execution_count": 11,
   "metadata": {},
   "outputs": [],
   "source": [
    "#Dados de Entrada\n",
    "agents = ['Cons 1', 'Cons 2', 'Prod A', 'Prod B']\n",
    "Na = len(agents)\n",
    "p_max = [100, 50, 100, 80]\n",
    "p_min = [0, 0, 0, 0]\n",
    "agent_sign = [1, 1, -1, -1] #1: Consumer; -1: Producer\n",
    "agent_conexion = pd.DataFrame([[0, 0, 1, 1],\n",
    "                               [0, 0, 1, 1],\n",
    "                               [1, 1, 0, 0],\n",
    "                               [1, 1, 0, 0]], columns=agents, index=agents)\n",
    "\n",
    "agent_conexion_dict = {(agents[i], agents[j]): agent_conexion.loc[agents[i], agents[j]] for i in range(Na) for j in range(Na)}\n",
    "Ng = sum(1 for p in agent_sign if p == -1)\n",
    "Nc = sum(1 for p in agent_sign if p == 1)\n",
    "c_ener = [40, 35, 12, 20]"
   ]
  },
  {
   "cell_type": "code",
   "execution_count": 12,
   "metadata": {},
   "outputs": [],
   "source": [
    "model = ConcreteModel()\n",
    "\n",
    "#Sets:\n",
    "model.agent = Set(initialize = agents)\n",
    "\n",
    "#Parâmetros:\n",
    "model.p_max = Param(model.agent, initialize = {agents[i]: p_max[i] for i in range(Na)})\n",
    "model.p_min = Param(model.agent, initialize = {agents[i]: p_min[i] for i in range(Na)})\n",
    "model.agent_sign = Param(model.agent, initialize = {agents[i]: agent_sign[i] for i in range(Na)})\n",
    "model.c_ener = Param(model.agent, initialize = {agents[i]: c_ener[i] for i in range(Na)})\n",
    "model.agent_conexion = Param(model.agent, model.agent, initialize = agent_conexion_dict)"
   ]
  },
  {
   "cell_type": "code",
   "execution_count": 13,
   "metadata": {},
   "outputs": [],
   "source": [
    "#Variáveis:\n",
    "model.p = Var(model.agent, model.agent, domain = NonNegativeReals)\n",
    "model.P = Var(model.agent, domain = NonNegativeReals)"
   ]
  },
  {
   "cell_type": "code",
   "execution_count": 14,
   "metadata": {},
   "outputs": [],
   "source": [
    "#Restrições:\n",
    "\n",
    "def balanco_agente(model, agente):\n",
    "    return sum(model.p[agente, i] for i in model.agent) == model.P[agente]\n",
    "model.balanco_agente = Constraint(model.agent, rule = balanco_agente)\n",
    "\n",
    "def limites_tecnicos_rule(model, agente):\n",
    "    return (model.p_min[agente], model.P[agente], model.p_max[agente])\n",
    "model.limites_tecnicos = Constraint(model.agent, rule = limites_tecnicos_rule)\n",
    "\n",
    "def balanco_rule(model, agente1, agente2):\n",
    "    if agente1 >= agente2:\n",
    "        return Constraint.Skip\n",
    "    elif model.agent_sign[agente1] == model.agent_sign[agente2]:\n",
    "        return Constraint.Skip\n",
    "    else:\n",
    "        return model.p[agente1, agente2] == model.p[agente2, agente1]\n",
    "model.balanco = Constraint(model.agent, model.agent, rule = balanco_rule)\n",
    "\n",
    "def no_arbitrage_rule(model, agente1, agente2):\n",
    "    if model.agent_sign[agente1] == model.agent_sign[agente2]:\n",
    "        return model.p[agente1, agente2] == 0\n",
    "    else:\n",
    "        return Constraint.Skip\n",
    "model.no_arbitrage = Constraint(model.agent, model.agent, rule = no_arbitrage_rule)"
   ]
  },
  {
   "cell_type": "code",
   "execution_count": 15,
   "metadata": {},
   "outputs": [],
   "source": [
    "#Product Differentiation\n",
    "c = [0, -0.5, -2, -5]\n",
    "gamma_13 = [10]\n",
    "gamma_14 = [2]\n",
    "\n",
    "#Função Objetivo:\n",
    "def objective_rule(model):\n",
    "    custo1= sum(model.P[i] * model.c_ener[i] * model.agent_sign[i] for i in model.agent)\n",
    "    prod_diff = c[3] * gamma_13[0] * model.p['Cons 1', 'Prod A'] + c[3] * gamma_14[0] * model.p['Cons 1', 'Prod B']\n",
    "    return custo1 + prod_diff\n",
    "model.objective = Objective(rule = objective_rule, sense = maximize)"
   ]
  },
  {
   "cell_type": "code",
   "execution_count": 16,
   "metadata": {},
   "outputs": [],
   "source": [
    "solver = SolverFactory('glpk')\n",
    "# solver = SolverFactory('ipopt',executable='/content/ipopt')\n",
    "model.dual = Suffix(direction=Suffix.IMPORT)\n",
    "resultados = solver.solve(model, tee=False)"
   ]
  },
  {
   "cell_type": "code",
   "execution_count": 17,
   "metadata": {},
   "outputs": [
    {
     "name": "stdout",
     "output_type": "stream",
     "text": [
      "Status Final do Problema de Otimização: ok \n",
      "\n",
      "Condição de Término: optimal \n",
      "\n",
      "Resultado Função Objetivo: 1950.0 \n",
      "\n",
      " Energia do Cons 1 para Cons 1: 0.0\n",
      " Energia do Cons 1 para Cons 2: 0.0\n",
      " Energia do Cons 1 para Prod A: 0.0\n",
      " Energia do Cons 1 para Prod B: 80.0\n",
      "\n",
      "\n",
      " Energia do Cons 2 para Cons 1: 0.0\n",
      " Energia do Cons 2 para Cons 2: 0.0\n",
      " Energia do Cons 2 para Prod A: 50.0\n",
      " Energia do Cons 2 para Prod B: 0.0\n",
      "\n",
      "\n",
      " Energia do Prod A para Cons 1: 0.0\n",
      " Energia do Prod A para Cons 2: 50.0\n",
      " Energia do Prod A para Prod A: 0.0\n",
      " Energia do Prod A para Prod B: 0.0\n",
      "\n",
      "\n",
      " Energia do Prod B para Cons 1: 80.0\n",
      " Energia do Prod B para Cons 2: 0.0\n",
      " Energia do Prod B para Prod A: 0.0\n",
      " Energia do Prod B para Prod B: 0.0\n",
      "\n",
      "\n",
      "Dual para restrição de balanço Cons 1-Prod A: 12.0\n",
      "Dual para restrição de balanço Cons 1-Prod B: 30.0\n",
      "Dual para restrição de balanço Cons 2-Prod A: 12.0\n",
      "Dual para restrição de balanço Cons 2-Prod B: 30.0\n",
      "Produção do Cons 1: 80.0\n",
      "Produção do Cons 2: 50.0\n",
      "Produção do Prod A: 50.0\n",
      "Produção do Prod B: 80.0\n"
     ]
    }
   ],
   "source": [
    "# Relatório dos resultados de otimização\n",
    "print('Status Final do Problema de Otimização:', resultados.solver.status, '\\n')\n",
    "print('Condição de Término:', resultados.solver.termination_condition, '\\n')\n",
    "print('Resultado Função Objetivo:', value(model.objective), '\\n')\n",
    "\n",
    "#Variáveis:\n",
    "for i in model.agent:\n",
    "    for j in model.agent:\n",
    "        print(f' Energia do {i} para {j}: {value(model.p[i,j])}')\n",
    "    print('\\n')\n",
    "\n",
    "#Print dos CMO:\n",
    "for (i, j) in model.balanco:\n",
    "    print(f'Dual para restrição de balanço {i}-{j}: {model.dual[model.balanco[i, j]]}')\n",
    "\n",
    "#Produção Individual dos Agentes:\n",
    "for i in model.agent:\n",
    "    print(f'Produção do {i}: {value(model.P[i])}')"
   ]
  },
  {
   "cell_type": "code",
   "execution_count": 18,
   "metadata": {},
   "outputs": [
    {
     "name": "stdout",
     "output_type": "stream",
     "text": [
      "Social Welfare: 2750.0\n"
     ]
    }
   ],
   "source": [
    "#Função Objetivo Recalculada:\n",
    "FOB = sum(value(model.P[i]) * model.c_ener[i] * model.agent_sign[i] for i in model.agent)\n",
    "print(f'Social Welfare: {FOB}')"
   ]
  }
 ],
 "metadata": {
  "kernelspec": {
   "display_name": ".venv",
   "language": "python",
   "name": "python3"
  },
  "language_info": {
   "codemirror_mode": {
    "name": "ipython",
    "version": 3
   },
   "file_extension": ".py",
   "mimetype": "text/x-python",
   "name": "python",
   "nbconvert_exporter": "python",
   "pygments_lexer": "ipython3",
   "version": "3.13.0"
  }
 },
 "nbformat": 4,
 "nbformat_minor": 2
}
