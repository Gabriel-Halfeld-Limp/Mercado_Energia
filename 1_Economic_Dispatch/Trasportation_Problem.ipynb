{
 "cells": [
  {
   "cell_type": "markdown",
   "metadata": {},
   "source": [
    "# Problema do Transporte"
   ]
  },
  {
   "cell_type": "markdown",
   "metadata": {},
   "source": [
    "## Importando Bibliotecas"
   ]
  },
  {
   "cell_type": "code",
   "execution_count": 9,
   "metadata": {},
   "outputs": [],
   "source": [
    "import numpy as np\n",
    "import pandas as pd\n",
    "import matplotlib.pyplot as plt\n",
    "from pyomo.environ import *"
   ]
  },
  {
   "cell_type": "markdown",
   "metadata": {},
   "source": [
    "## Dados"
   ]
  },
  {
   "cell_type": "code",
   "execution_count": 10,
   "metadata": {},
   "outputs": [],
   "source": [
    "# Dados Entrada\n",
    "\n",
    "i = ['seattle', 'san_diego']\n",
    "j = ['new_york','chicago','topeka']\n",
    "\n",
    "cap = [350,600]\n",
    "dem = [325,300,275]\n",
    "\n",
    "distancias = pd.DataFrame([[2.5,1.7,1.8],[2.5,1.8,1.4]], columns = j, index = i) # em 1000 km\n",
    "\n",
    "preco_km = 90 # preco de transporte a cada 1000 km\n",
    "\n",
    "custo = (preco_km * distancias)/1000   # custo de transporte por km, entre origens e destinos"
   ]
  },
  {
   "cell_type": "markdown",
   "metadata": {},
   "source": [
    "## Modelo no Pyomo"
   ]
  },
  {
   "cell_type": "code",
   "execution_count": 11,
   "metadata": {},
   "outputs": [],
   "source": [
    "ni = len(i)\n",
    "nj = len(j)\n",
    "\n",
    "model = ConcreteModel()\n",
    "\n",
    "#Sets:\n",
    "model.i = Set(initialize=i)\n",
    "model.j = Set(initialize=j)\n",
    "\n",
    "#Parâmetros\n",
    "model.cap = Param(model.i, initialize={i[k]: cap[k] for k in range(ni)})\n",
    "model.dem = Param(model.j, initialize={j[k]: dem[k] for k in range(nj)})\n",
    "model.distancias = Param(model.i, model.j, initialize=lambda model, i, j: distancias.loc[i,j])\n",
    "model.custo = Param(model.i, model.j, initialize=lambda model, i, j: custo.loc[i,j])\n",
    "\n",
    "#Variáveis\n",
    "model.x = Var(model.i, model.j, domain=NonNegativeReals)\n",
    "\n",
    "#Declarar Função Objetivo\n",
    "def objective_rule(model):\n",
    "    return sum(model.custo[i,j]*model.x[i,j] for i in model.i for j in model.j)\n",
    "model.objective = Objective(rule=objective_rule, sense=minimize)\n",
    "\n",
    "#Declarar Restrições\n",
    "def supply_rule(model,i):\n",
    "    return sum(model.x[i,j] for j in model.j) <= model.cap[i]\n",
    "model.supply = Constraint(model.i, rule=supply_rule)\n",
    "\n",
    "def demand_rule(model,j):\n",
    "    return sum(model.x[i,j] for i in model.i) >= model.dem[j]\n",
    "model.demand = Constraint(model.j, rule=demand_rule)\n",
    "\n",
    "#Executar Otimização\n",
    "solver = SolverFactory('glpk')\n",
    "resultados = solver.solve(model, tee=False)"
   ]
  },
  {
   "cell_type": "markdown",
   "metadata": {},
   "source": [
    "## Resultados"
   ]
  },
  {
   "cell_type": "code",
   "execution_count": 12,
   "metadata": {},
   "outputs": [
    {
     "name": "stdout",
     "output_type": "stream",
     "text": [
      "Status Final do Problema de Otimização: ok \n",
      "\n",
      "Condição de Término: optimal \n",
      "\n",
      "Resultado Função Objetivo: 153.67499999999998 \n",
      "\n",
      "Produtos transportados de seattle para new_york: 50.0\n",
      "Produtos transportados de seattle para chicago: 300.0\n",
      "Produtos transportados de seattle para topeka: 0.0\n",
      "Produtos transportados de san_diego para new_york: 275.0\n",
      "Produtos transportados de san_diego para chicago: 0.0\n",
      "Produtos transportados de san_diego para topeka: 275.0\n"
     ]
    }
   ],
   "source": [
    "print('Status Final do Problema de Otimização:', resultados.solver.status, '\\n')\n",
    "print('Condição de Término:', resultados.solver.termination_condition, '\\n')\n",
    "print('Resultado Função Objetivo:', value(model.objective), '\\n')\n",
    "\n",
    "for orig in model.i:\n",
    "    for dest in model.j:\n",
    "        print('Produtos transportados de {} para {}:'.format(orig, dest), model.x[orig, dest].value)"
   ]
  }
 ],
 "metadata": {
  "kernelspec": {
   "display_name": ".venv",
   "language": "python",
   "name": "python3"
  },
  "language_info": {
   "codemirror_mode": {
    "name": "ipython",
    "version": 3
   },
   "file_extension": ".py",
   "mimetype": "text/x-python",
   "name": "python",
   "nbconvert_exporter": "python",
   "pygments_lexer": "ipython3",
   "version": "3.13.0"
  }
 },
 "nbformat": 4,
 "nbformat_minor": 2
}
