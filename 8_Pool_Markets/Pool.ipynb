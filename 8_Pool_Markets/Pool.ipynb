{
 "cells": [
  {
   "cell_type": "code",
   "execution_count": 3,
   "metadata": {},
   "outputs": [],
   "source": [
    "import numpy as np\n",
    "import pandas as pd\n",
    "import matplotlib.pyplot as plt\n",
    "from pyomo.environ import *"
   ]
  },
  {
   "cell_type": "code",
   "execution_count": 4,
   "metadata": {},
   "outputs": [],
   "source": [
    "# Dados Entrada\n",
    "\n",
    "ger = ['Produtor A', 'Produtor B']\n",
    "Ng = len(ger)\n",
    "pmax_ter = [100, 80] # MW\n",
    "c_ener_ger = [12, 20]\n",
    "\n",
    "loads = ['Consumidor 1', 'Consumidor 2']\n",
    "Nc = len(loads)\n",
    "demanda_energia = [100, 50]\n",
    "c_ener_load = [40, 35]"
   ]
  },
  {
   "cell_type": "code",
   "execution_count": 5,
   "metadata": {},
   "outputs": [],
   "source": [
    "# Criar Modelo Concreto\n",
    "model = ConcreteModel()\n",
    "\n",
    "#Geradores Térmicos:\n",
    "model.ger = Set(initialize=ger)\n",
    "model.c_ener_ger = Param(model.ger, initialize={ger[i]: c_ener_ger[i] for i in range(Ng)})\n",
    "model.pmax_ter = Param(model.ger, initialize={ger[i]: pmax_ter[i] for i in range(Ng)})\n",
    "\n",
    "#Cargas:\n",
    "model.loads = Set(initialize=loads)\n",
    "model.dem = Param(model.loads, initialize={loads[i]: demanda_energia[i] for i in range(Nc)})\n",
    "model.c_ener_load = Param(model.loads, initialize={loads[i]: c_ener_load[i] for i in range(Nc)})"
   ]
  },
  {
   "cell_type": "code",
   "execution_count": 6,
   "metadata": {},
   "outputs": [],
   "source": [
    "#Variáveis:\n",
    "model.p_ger = Var(model.ger, domain=NonNegativeReals)\n",
    "model.p_load = Var(model.loads, domain=NonNegativeReals)"
   ]
  },
  {
   "cell_type": "code",
   "execution_count": 7,
   "metadata": {},
   "outputs": [],
   "source": [
    "#Restrições\n",
    "def balanco(model):\n",
    "    energia_vendida = sum(model.p_ger[gerador] for gerador in model.ger)\n",
    "    energia_comprada = sum(model.p_load[carga] for carga in model.loads)\n",
    "    return energia_vendida == energia_comprada\n",
    "model.balanco = Constraint(rule = balanco)\n",
    "\n",
    "def limite_gerador_superior(model, gerador):\n",
    "    return model.p_ger[gerador] <= model.pmax_ter[gerador]\n",
    "model.limite_gerador = Constraint(model.ger, rule=limite_gerador_superior)\n",
    "\n",
    "def limite_carga_superior(model, carga):\n",
    "    return model.p_load[carga] <= model.dem[carga]\n",
    "model.limite_carga = Constraint(model.loads, rule=limite_carga_superior)\n",
    "\n",
    "def limite_gerador_inferior(model, gerador):\n",
    "    return model.p_ger[gerador] >= 0\n",
    "model.limite_gerador_inf = Constraint(model.ger, rule=limite_gerador_inferior)\n",
    "\n",
    "def limite_carga_inferior(model, carga):\n",
    "    return model.p_load[carga] >= 0\n",
    "model.limite_carga_inf = Constraint(model.loads, rule=limite_carga_inferior)"
   ]
  },
  {
   "cell_type": "code",
   "execution_count": 8,
   "metadata": {},
   "outputs": [],
   "source": [
    "#Função Objetivo:\n",
    "def objective_rule(model):\n",
    "    compra_total = sum(model.p_load[carga] * model.c_ener_load[carga] for carga in model.loads)\n",
    "    venda_total = sum(model.p_ger[gerador] * model.c_ener_ger[gerador] for gerador in model.ger)\n",
    "    return compra_total - venda_total\n",
    "model.obj = Objective(rule=objective_rule, sense=maximize)"
   ]
  },
  {
   "cell_type": "code",
   "execution_count": 9,
   "metadata": {},
   "outputs": [],
   "source": [
    "solver = SolverFactory('glpk')\n",
    "# solver = SolverFactory('ipopt',executable='/content/ipopt')\n",
    "\n",
    "resultados = solver.solve(model, tee=False)"
   ]
  },
  {
   "cell_type": "code",
   "execution_count": 10,
   "metadata": {},
   "outputs": [
    {
     "name": "stdout",
     "output_type": "stream",
     "text": [
      "Status Final do Problema de Otimização: ok \n",
      "\n",
      "Condição de Término: optimal \n",
      "\n",
      "Resultado Função Objetivo: 3550.0 \n",
      "\n",
      "Energias Vendidas:\n",
      "Produtor A: 100.0\n",
      "\n",
      "Produtor B: 50.0\n",
      "\n",
      "Energias Compradas:\n",
      "Consumidor 1: 100.0\n",
      "\n",
      "Consumidor 2: 50.0\n",
      "\n"
     ]
    }
   ],
   "source": [
    "# Relatório dos resultados de otimização\n",
    "print('Status Final do Problema de Otimização:', resultados.solver.status, '\\n')\n",
    "print('Condição de Término:', resultados.solver.termination_condition, '\\n')\n",
    "print('Resultado Função Objetivo:', value(model.obj), '\\n')\n",
    "\n",
    "#Energias Vendidas:\n",
    "print('Energias Vendidas:')\n",
    "for gerador in model.ger:\n",
    "    print(f'{gerador}:', value(model.p_ger[gerador]))\n",
    "    print()\n",
    "\n",
    "#Energias Compradas:\n",
    "print('Energias Compradas:')\n",
    "for carga in model.loads:\n",
    "    print(f'{carga}:', value(model.p_load[carga]))\n",
    "    print()"
   ]
  }
 ],
 "metadata": {
  "kernelspec": {
   "display_name": ".venv",
   "language": "python",
   "name": "python3"
  },
  "language_info": {
   "codemirror_mode": {
    "name": "ipython",
    "version": 3
   },
   "file_extension": ".py",
   "mimetype": "text/x-python",
   "name": "python",
   "nbconvert_exporter": "python",
   "pygments_lexer": "ipython3",
   "version": "3.13.0"
  }
 },
 "nbformat": 4,
 "nbformat_minor": 2
}
