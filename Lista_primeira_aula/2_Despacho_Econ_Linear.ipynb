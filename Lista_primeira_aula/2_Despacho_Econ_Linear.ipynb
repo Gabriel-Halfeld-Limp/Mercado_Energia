{
 "cells": [
  {
   "cell_type": "code",
   "execution_count": 9,
   "metadata": {},
   "outputs": [],
   "source": [
    "import numpy as np\n",
    "import pandas as pd\n",
    "import matplotlib.pyplot as plt\n",
    "from pyomo.environ import *"
   ]
  },
  {
   "cell_type": "code",
   "execution_count": 10,
   "metadata": {},
   "outputs": [],
   "source": [
    "# Dados Entrada\n",
    "\n",
    "ger = ['Gerador_1', 'Gerador_2', 'Gerador_3']\n",
    "Ng = len(ger)\n",
    "pmin = [120,30,80]\n",
    "pmax = [530,180,250]\n",
    "c_ener = [100,150,300]\n",
    "\n",
    "loads = ['Carga_1']\n",
    "Nc = len(loads)\n",
    "dem = [780]\n",
    "\n",
    "#Modelo Concreto:\n",
    "model = ConcreteModel()\n",
    "\n",
    "#Sets:\n",
    "model.ger = Set(initialize=ger)\n",
    "model.loads = Set(initialize=loads)\n",
    "\n",
    "# Parâmetros:\n",
    "model.pmin = Param(model.ger, initialize={ger[k]: pmin[k] for k in range(Ng)})\n",
    "model.pmax = Param(model.ger, initialize={ger[k]: pmax[k] for k in range(Ng)})\n",
    "model.c_ener = Param(model.ger, initialize={ger[k]: c_ener[k] for k in range(Ng)})\n",
    "model.dem = Param(model.loads, initialize={loads[k]: dem[k] for k in range(Nc)})\n",
    "\n",
    "#Variáveis:\n",
    "model.prod = Var(model.ger, domain = NonNegativeReals)"
   ]
  },
  {
   "cell_type": "code",
   "execution_count": 11,
   "metadata": {},
   "outputs": [],
   "source": [
    "#Restrições:\n",
    "def prod_min(model, gerador):\n",
    "    return model.prod[gerador] >= model.pmin[gerador]\n",
    "model.prod_min = Constraint(model.ger, rule=prod_min)\n",
    "\n",
    "def prod_max(model, gerador):\n",
    "    return model.prod[gerador] <= model.pmax[gerador]\n",
    "model.prod_max = Constraint(model.ger, rule=prod_max)\n",
    "\n",
    "def balanco(model):\n",
    "    return sum(model.prod[i] for i in model.ger) == sum(model.dem[j] for j in model.loads)\n",
    "model.balanco = Constraint(rule=balanco)\n",
    "\n",
    "#Função Objetivo:\n",
    "def objective_rule(model):\n",
    "    return sum(model.c_ener[i]*model.prod[i] for i in model.ger)\n",
    "model.objective = Objective(rule=objective_rule, sense=minimize)\n",
    "\n",
    "#Executar Otimização:\n",
    "solver = SolverFactory('glpk')\n",
    "resultados = solver.solve(model, tee=False)"
   ]
  },
  {
   "cell_type": "code",
   "execution_count": 12,
   "metadata": {},
   "outputs": [
    {
     "name": "stdout",
     "output_type": "stream",
     "text": [
      "Status Final do Problema de Otimização: ok \n",
      "\n",
      "Condição de Término: optimal \n",
      "\n",
      "Resultado Função Objetivo: R$ 102500.0 \n",
      "\n",
      "Energia gerada do Gerador_1: 530.00 MWh\n",
      "Energia gerada do Gerador_2: 170.00 MWh\n",
      "Energia gerada do Gerador_3: 80.00 MWh\n"
     ]
    }
   ],
   "source": [
    "# Relatório dos resultados de otimização\n",
    "print('Status Final do Problema de Otimização:', resultados.solver.status, '\\n')\n",
    "print('Condição de Término:', resultados.solver.termination_condition, '\\n')\n",
    "print('Resultado Função Objetivo: R$', value(model.objective), '\\n')\n",
    "\n",
    "for gerador in model.ger:\n",
    "    print('Energia gerada do {}: {:.2f} MWh'.format(gerador, model.prod[gerador].value))"
   ]
  }
 ],
 "metadata": {
  "kernelspec": {
   "display_name": ".venv",
   "language": "python",
   "name": "python3"
  },
  "language_info": {
   "codemirror_mode": {
    "name": "ipython",
    "version": 3
   },
   "file_extension": ".py",
   "mimetype": "text/x-python",
   "name": "python",
   "nbconvert_exporter": "python",
   "pygments_lexer": "ipython3",
   "version": "3.13.0"
  }
 },
 "nbformat": 4,
 "nbformat_minor": 2
}
