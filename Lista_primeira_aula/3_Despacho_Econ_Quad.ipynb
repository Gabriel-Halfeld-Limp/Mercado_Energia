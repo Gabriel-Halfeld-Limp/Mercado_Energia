{
 "cells": [
  {
   "cell_type": "code",
   "execution_count": 13,
   "metadata": {},
   "outputs": [],
   "source": [
    "import numpy as np\n",
    "import pandas as pd\n",
    "import matplotlib.pyplot as plt\n",
    "from pyomo.environ import *"
   ]
  },
  {
   "cell_type": "code",
   "execution_count": 14,
   "metadata": {},
   "outputs": [],
   "source": [
    "#Dados de Entrada\n",
    "ger = ['Gerador_1', 'Gerador_2', 'Gerador_3', 'Gerador_4', 'Gerador_5']\n",
    "Ng = len(ger)\n",
    "pmin = [28,90,68,76,19]\n",
    "pmax = [206,284,189,266,53]\n",
    "c_ener_a = [3,4.05,4.05,3.99,3.88]\n",
    "c_ener_b = [20,18.07,15.55,19.21,26.18]\n",
    "c_ener_c = [100,98.87,104.26,107.21,95.31]\n",
    "\n",
    "loads = ['Carga_1']\n",
    "Nc = len(loads)\n",
    "dem = [780]"
   ]
  },
  {
   "cell_type": "code",
   "execution_count": 15,
   "metadata": {},
   "outputs": [],
   "source": [
    "# Criar Modelo Concreto\n",
    "model = ConcreteModel('despacho_quad')\n",
    "\n",
    "#Sets\n",
    "model.ger = Set(initialize=ger)\n",
    "model.loads = Set(initialize=loads)\n",
    "\n",
    "#Parâmetros\n",
    "model.pmin = Param(model.ger, initialize={ger[k]: pmin[k] for k in range(Ng)})\n",
    "model.pmax = Param(model.ger, initialize={ger[k]: pmax[k] for k in range(Ng)})\n",
    "model.c_ener_a = Param(model.ger, initialize={ger[k]: c_ener_a[k] for k in range(Ng)})\n",
    "model.c_ener_b = Param(model.ger, initialize={ger[k]: c_ener_b[k] for k in range(Ng)})\n",
    "model.c_ener_c = Param(model.ger, initialize={ger[k]: c_ener_c[k] for k in range(Ng)})\n",
    "\n",
    "model.dem = Param(model.loads, initialize={loads[k]: dem[k] for k in range(Nc)})\n",
    "\n",
    "#Variáveis\n",
    "model.prod = Var(model.ger, domain = NonNegativeReals)"
   ]
  },
  {
   "cell_type": "code",
   "execution_count": 16,
   "metadata": {},
   "outputs": [],
   "source": [
    "#Restrições\n",
    "def prod_min(model, gerador):\n",
    "    return model.prod[gerador] >= model.pmin[gerador]\n",
    "model.prod_min = Constraint(model.ger, rule=prod_min)\n",
    "\n",
    "def prod_max(model, gerador):\n",
    "    return model.prod[gerador] <= model.pmax[gerador]\n",
    "model.prod_max = Constraint(model.ger, rule=prod_max)\n",
    "\n",
    "def balanco(model):\n",
    "    return sum(model.prod[i] for i in model.ger) == sum(model.dem[j] for j in model.loads)\n",
    "model.balanco = Constraint(rule=balanco)"
   ]
  },
  {
   "cell_type": "code",
   "execution_count": 17,
   "metadata": {},
   "outputs": [],
   "source": [
    "#Função Objetivo:\n",
    "def objective_rule(model):\n",
    "    return sum(model.c_ener_a[gerador]*model.prod[gerador]*model.prod[gerador] + model.c_ener_b[gerador]*model.prod[gerador] + model.c_ener_c[gerador]  for gerador in model.ger)\n",
    "model.objective = Objective(rule=objective_rule, sense=minimize)\n",
    "\n",
    "#Executar Otimização:\n",
    "solver = SolverFactory('ipopt')\n",
    "resultados = solver.solve(model, tee=False)"
   ]
  },
  {
   "cell_type": "code",
   "execution_count": 18,
   "metadata": {},
   "outputs": [
    {
     "name": "stdout",
     "output_type": "stream",
     "text": [
      "Status Final do Problema de Otimização: ok \n",
      "\n",
      "Condição de Término: optimal \n",
      "\n",
      "Resultado Função Objetivo: R$ 518016.3337469104 \n",
      "\n",
      "Energia gerada do Gerador_1: 206.00 MWh\n",
      "Energia gerada do Gerador_2: 172.74 MWh\n",
      "Energia gerada do Gerador_3: 173.06 MWh\n",
      "Energia gerada do Gerador_4: 175.20 MWh\n",
      "Energia gerada do Gerador_5: 53.00 MWh\n"
     ]
    }
   ],
   "source": [
    "# Relatório dos resultados de otimização\n",
    "print('Status Final do Problema de Otimização:', resultados.solver.status, '\\n')\n",
    "print('Condição de Término:', resultados.solver.termination_condition, '\\n')\n",
    "print('Resultado Função Objetivo: R$', value(model.objective), '\\n')\n",
    "\n",
    "for gerador in model.ger:\n",
    "    print('Energia gerada do {}: {:.2f} MWh'.format(gerador, model.prod[gerador].value))"
   ]
  }
 ],
 "metadata": {
  "kernelspec": {
   "display_name": ".venv",
   "language": "python",
   "name": "python3"
  },
  "language_info": {
   "codemirror_mode": {
    "name": "ipython",
    "version": 3
   },
   "file_extension": ".py",
   "mimetype": "text/x-python",
   "name": "python",
   "nbconvert_exporter": "python",
   "pygments_lexer": "ipython3",
   "version": "3.13.0"
  }
 },
 "nbformat": 4,
 "nbformat_minor": 2
}
