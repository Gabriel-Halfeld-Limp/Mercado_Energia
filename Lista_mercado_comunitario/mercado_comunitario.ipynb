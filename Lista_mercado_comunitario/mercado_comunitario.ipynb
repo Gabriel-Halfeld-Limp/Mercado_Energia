{
 "cells": [
  {
   "cell_type": "code",
   "execution_count": 25,
   "metadata": {},
   "outputs": [],
   "source": [
    "import numpy as np\n",
    "import pandas as pd\n",
    "import matplotlib.pyplot as plt\n",
    "from pyomo.environ import *"
   ]
  },
  {
   "cell_type": "code",
   "execution_count": 26,
   "metadata": {},
   "outputs": [],
   "source": [
    "#Dados de Entrada\n",
    "agents = ['Cons 1', 'Cons 2', 'Prod A', 'Prod B']\n",
    "Na = len(agents)\n",
    "p_max = [100, 50, 100, 80]\n",
    "p_min = [0, 0, 0, 0]\n",
    "agent_sign = [1, 1, -1, -1] #1: Consumer; -1: Producer\n",
    "Ng = sum(1 for p in agent_sign if p == -1)\n",
    "Nc = sum(1 for p in agent_sign if p == 1)\n",
    "c_ener = [40, 35, 12, 20]\n",
    "\n",
    "comunidade = ['Comunidade']\n",
    "Nco = len(comunidade)\n",
    "\n",
    "c_ener_exp = [10]\n",
    "c_ener_imp = [30]\n"
   ]
  },
  {
   "cell_type": "code",
   "execution_count": 27,
   "metadata": {},
   "outputs": [],
   "source": [
    "model = ConcreteModel()\n",
    "\n",
    "#Sets:\n",
    "model.agent = Set(initialize = agents)\n",
    "model.com = Set(initialize = comunidade)\n",
    "\n",
    "#Parâmetros:\n",
    "model.p_max = Param(model.agent, initialize = {agents[i]: p_max[i] for i in range(Na)})\n",
    "model.p_min = Param(model.agent, initialize = {agents[i]: p_min[i] for i in range(Na)})\n",
    "model.agent_sign = Param(model.agent, initialize = {agents[i]: agent_sign[i] for i in range(Na)})\n",
    "model.c_ener = Param(model.agent, initialize = {agents[i]: c_ener[i] for i in range(Na)})\n",
    "model.c_ener_imp = Param(model.com, initialize = {comunidade[i]: c_ener_imp[i] for i in range(Nco)})\n",
    "model.c_ener_exp = Param(model.com, initialize = {comunidade[i]: c_ener_exp[i] for i in range(Nco)})"
   ]
  },
  {
   "cell_type": "code",
   "execution_count": 28,
   "metadata": {},
   "outputs": [],
   "source": [
    "#Variáveis:\n",
    "model.p = Var(model.agent, domain=Reals) #Energia total por agente\n",
    "model.q = Var(model.agent, domain=Reals) #Energia interna\n",
    "\n",
    "model.beta = Var(model.agent, domain=NonNegativeReals)\n",
    "model.alpha = Var(model.agent, domain=NonNegativeReals)\n",
    "\n",
    "model.q_imp = Var(model.com, domain=NonNegativeReals)\n",
    "model.q_exp = Var(model.com, domain=NonNegativeReals)"
   ]
  },
  {
   "cell_type": "code",
   "execution_count": 29,
   "metadata": {},
   "outputs": [],
   "source": [
    "def balanco_por_agente_rule(model, agente):\n",
    "    pn = model.p[agente]\n",
    "    qn = model.q[agente]\n",
    "    alphan = model.alpha[agente]\n",
    "    betan = model.beta[agente]\n",
    "    return pn + qn - alphan + betan == 0\n",
    "model.balanco_por_agente = Constraint(model.agent, rule=balanco_por_agente_rule)\n",
    "\n",
    "def balanco_interno_rule(model):\n",
    "    return sum(model.q[agente] for agente in model.agent) == 0\n",
    "model.balanco_interno = Constraint(rule=balanco_interno_rule)\n",
    "\n",
    "def balanco_importacao_rule(model):\n",
    "    return sum(model.alpha[agente] for agente in model.agent) == model.q_imp['Comunidade']\n",
    "model.balanco_importacao = Constraint(rule=balanco_importacao_rule)\n",
    "\n",
    "def balanco_exportacao_rule(model):\n",
    "    return sum(model.beta[agente] for agente in model.agent) == model.q_exp['Comunidade']\n",
    "model.balanco_exportacao = Constraint(rule=balanco_exportacao_rule)\n",
    "\n",
    "def limites_agentes_rule(model, agente):\n",
    "    if model.agent_sign[agente] == 1:\n",
    "        return (model.p_min[agente], model.p[agente], model.p_max[agente])\n",
    "    else:\n",
    "        return (-model.p_max[agente], model.p[agente], -model.p_min[agente])\n",
    "model.limites_agentes = Constraint(model.agent, rule=limites_agentes_rule)\n",
    "\n",
    "def limite_importacao_rule(model):\n",
    "    return (model.q_imp['Comunidade']<=sum(model.p[agente]  for agente in model.agent if model.agent_sign[agente] == 1))\n",
    "model.limite_importacao = Constraint(rule=limite_importacao_rule)\n",
    "\n",
    "def limite_exporacaio_rule(model):\n",
    "    return (model.q_exp['Comunidade']<=sum(model.p_max[agente] for agente in model.agent if model.agent_sign[agente]==-1))\n",
    "model.limite_exportacao = Constraint(rule=limite_exporacaio_rule)\n",
    "\n",
    "def no_arbitrage_rule(model, agente):\n",
    "    if model.agent_sign[agente] == 1:\n",
    "        return model.beta[agente] == 0\n",
    "    else:\n",
    "        return model.alpha[agente] == 0\n",
    "model.no_arbitrage = Constraint(model.agent, rule=no_arbitrage_rule)"
   ]
  },
  {
   "cell_type": "code",
   "execution_count": 30,
   "metadata": {},
   "outputs": [],
   "source": [
    "#Função Objetivo:\n",
    "def objective_rule(model):\n",
    "    CnPn = sum(model.p[agente] * model.c_ener[agente] for agente in model.agent)\n",
    "    CexpQexp = model.q_exp['Comunidade'] * model.c_ener_exp['Comunidade']\n",
    "    CimpQimp = model.q_imp['Comunidade'] * model.c_ener_imp['Comunidade']\n",
    "    return CnPn + CexpQexp - CimpQimp\n",
    "model.objective = Objective(rule=objective_rule, sense=maximize)"
   ]
  },
  {
   "cell_type": "code",
   "execution_count": 31,
   "metadata": {},
   "outputs": [],
   "source": [
    "solver = SolverFactory('glpk')\n",
    "# solver = SolverFactory('ipopt',executable='/content/ipopt')\n",
    "model.dual = Suffix(direction=Suffix.IMPORT)\n",
    "resultados = solver.solve(model, tee=False)"
   ]
  },
  {
   "cell_type": "code",
   "execution_count": 32,
   "metadata": {},
   "outputs": [
    {
     "name": "stdout",
     "output_type": "stream",
     "text": [
      "Status Final do Problema de Otimização: ok \n",
      "\n",
      "Condição de Término: optimal \n",
      "\n",
      "Resultado Função Objetivo: 3550.0 \n",
      "\n",
      "Energia total do Cons 1: 100.0\n",
      "Energia total do Cons 2: 50.0\n",
      "Energia total do Prod A: -100.0\n",
      "Energia total do Prod B: -50.0\n",
      "\n",
      "\n",
      "Energia interna do Cons 1: -100.0\n",
      "Energia interna do Cons 2: -50.0\n",
      "Energia interna do Prod A: 100.0\n",
      "Energia interna do Prod B: 50.0\n",
      "\n",
      "\n",
      "Alpha do Cons 1: 0.0\n",
      "Alpha do Cons 2: 0.0\n",
      "Alpha do Prod A: 0.0\n",
      "Alpha do Prod B: 0.0\n",
      "\n",
      "\n",
      "Beta do Cons 1: 0.0\n",
      "Beta do Cons 2: 0.0\n",
      "Beta do Prod A: 0.0\n",
      "Beta do Prod B: 0.0\n",
      "\n",
      "\n",
      "Energia importada pela comunidade: 0.0\n",
      "\n",
      "\n",
      "Energia exportada pela comunidade: -0.0\n"
     ]
    }
   ],
   "source": [
    "# Relatório dos resultados de otimização\n",
    "print('Status Final do Problema de Otimização:', resultados.solver.status, '\\n')\n",
    "print('Condição de Término:', resultados.solver.termination_condition, '\\n')\n",
    "print('Resultado Função Objetivo:', value(model.objective), '\\n')\n",
    "\n",
    "#Pn:\n",
    "for agente in model.agent:\n",
    "    print(f'Energia total do {agente}: {model.p[agente].value}')\n",
    "print('\\n')\n",
    "#qn:\n",
    "for agente in model.agent:\n",
    "    print(f'Energia interna do {agente}: {model.q[agente].value}')\n",
    "print('\\n')\n",
    "\n",
    "#Alphan:\n",
    "for agente in model.agent:\n",
    "    print(f'Alpha do {agente}: {model.alpha[agente].value}')\n",
    "print('\\n')\n",
    "\n",
    "#Betan\n",
    "for agente in model.agent:\n",
    "    print(f'Beta do {agente}: {model.beta[agente].value}')\n",
    "print('\\n')\n",
    "\n",
    "#Energia importada pela comunidade:\n",
    "print(f'Energia importada pela comunidade: {model.q_imp[\"Comunidade\"].value}')\n",
    "print('\\n')\n",
    "\n",
    "#Energia exportada pela comunidade:\n",
    "print(f'Energia exportada pela comunidade: {model.q_exp[\"Comunidade\"].value}')"
   ]
  }
 ],
 "metadata": {
  "kernelspec": {
   "display_name": ".venv",
   "language": "python",
   "name": "python3"
  },
  "language_info": {
   "codemirror_mode": {
    "name": "ipython",
    "version": 3
   },
   "file_extension": ".py",
   "mimetype": "text/x-python",
   "name": "python",
   "nbconvert_exporter": "python",
   "pygments_lexer": "ipython3",
   "version": "3.13.0"
  }
 },
 "nbformat": 4,
 "nbformat_minor": 2
}
