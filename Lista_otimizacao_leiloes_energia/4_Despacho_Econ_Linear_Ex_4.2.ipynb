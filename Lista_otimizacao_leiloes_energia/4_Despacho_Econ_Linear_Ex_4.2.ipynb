{
 "cells": [
  {
   "cell_type": "code",
   "execution_count": 25,
   "metadata": {},
   "outputs": [],
   "source": [
    "import numpy as np\n",
    "import pandas as pd\n",
    "import matplotlib.pyplot as plt\n",
    "from pyomo.environ import *"
   ]
  },
  {
   "cell_type": "code",
   "execution_count": 26,
   "metadata": {},
   "outputs": [],
   "source": [
    "#Dados do problema\n",
    "dados_ger = pd.DataFrame({\n",
    "    'Barra': [1, 1, 2, 2, 3, 3, 3, 5, 5, 4, 4],\n",
    "    'P_min (MW)': [0] * 11,\n",
    "    'P_max (MW)': [10, 20, 15, 40, 30, 40, 20, 10, 20, 60, 75],\n",
    "    'Custo/MW': [5, 15, 6, 7, 6, 15, 25, 10, 15, 30, 18]\n",
    "})\n",
    "\n",
    "\n",
    "bus = [f'Barra {bar+1}' for bar in range(6)]\n",
    "\n",
    "loads = ['Carga 1']\n",
    "Nc = len(loads)\n",
    "dem = [250]\n",
    "\n",
    "\n",
    "ger = [f'Gerador {gerador+1}' for gerador in range(len(dados_ger['Barra']))]\n",
    "Ng = len(ger)\n",
    "c_ener = dados_ger['Custo/MW'].tolist()\n",
    "pmin = [0] * Ng\n",
    "pmax = [10, 20, 15, 40, 30, 40, 20, 10, 20, 60, 75]\n",
    "\n",
    "#Localização do Gerador\n",
    "ger_loc = pd.DataFrame(0, index=ger, columns=bus)\n",
    "# Preencher a matriz ger_loc com 1 onde o gerador está localizado em uma barra\n",
    "for idx, row in dados_ger.iterrows():\n",
    "    gerador = f'Gerador {idx + 1}'  # Nome do índice para cada gerador\n",
    "    barra = f'Barra {row[\"Barra\"]}'\n",
    "    ger_loc.at[gerador, barra] = 1\n",
    "\n",
    "#Localização da Carga\n",
    "loads_loc = pd.DataFrame(0, index=loads, columns=bus)\n",
    "loads_loc.loc['Carga 1', 'Barra 6'] = 1"
   ]
  },
  {
   "cell_type": "code",
   "execution_count": 27,
   "metadata": {},
   "outputs": [],
   "source": [
    "model = ConcreteModel()\n",
    "\n",
    "#Sets\n",
    "model.ger = Set(initialize=ger)\n",
    "model.loads = Set(initialize=loads)\n",
    "model.bus = Set(initialize=bus)\n",
    "\n",
    "#Parâmetros\n",
    "model.pmin = Param(model.ger, initialize={ger[k]: pmin[k] for k in range(Ng)})\n",
    "model.pmax = Param(model.ger, initialize={ger[k]: pmax[k] for k in range(Ng)})\n",
    "model.c_ener = Param(model.ger, initialize={ger[k]: c_ener[k] for k in range(Ng)})\n",
    "model.dem = Param(model.loads, initialize={loads[k]: dem[k] for k in range(Nc)})\n",
    "model.ger_loc = Param(model.ger, model.bus, initialize=lambda model, g, b: ger_loc.loc[g, b], default=0, mutable=False)\n",
    "model.load_loc = Param(model.loads, model.bus, initialize=lambda model, l, b: loads_loc.loc[l, b], default=0, mutable=False)\n",
    "\n",
    "#Variáveis\n",
    "model.prod = Var(model.ger, domain = NonNegativeReals)"
   ]
  },
  {
   "cell_type": "code",
   "execution_count": 28,
   "metadata": {},
   "outputs": [],
   "source": [
    "#Restrições\n",
    "def prod_min(model, gerador):\n",
    "    return model.prod[gerador] >= model.pmin[gerador]\n",
    "model.prod_min = Constraint(model.ger, rule=prod_min)\n",
    "\n",
    "def prod_max(model, gerador):\n",
    "    return model.prod[gerador] <= model.pmax[gerador]\n",
    "model.prod_max = Constraint(model.ger, rule=prod_max)\n",
    "\n",
    "def balanco(model):\n",
    "    return sum(model.prod[i] for i in model.ger) == sum(model.dem[j] for j in model.loads)\n",
    "model.balanco = Constraint(rule=balanco)"
   ]
  },
  {
   "cell_type": "code",
   "execution_count": 29,
   "metadata": {},
   "outputs": [],
   "source": [
    "#Função Objetivo:\n",
    "def objective_rule(model):\n",
    "    return sum(model.c_ener[i]*model.prod[i] for i in model.ger)\n",
    "model.objective = Objective(rule=objective_rule, sense=minimize)\n",
    "\n",
    "#Executar Otimização:\n",
    "solver = SolverFactory('glpk')\n",
    "resultados = solver.solve(model, tee=False)"
   ]
  },
  {
   "cell_type": "code",
   "execution_count": 30,
   "metadata": {},
   "outputs": [
    {
     "name": "stdout",
     "output_type": "stream",
     "text": [
      "Status Final do Problema de Otimização: ok \n",
      "\n",
      "Condição de Término: optimal \n",
      "\n",
      "Resultado Função Objetivo: R$ 3070.0 \n",
      "\n",
      "Energia gerada do Gerador 1: 10.00 MWh\n",
      "Energia gerada do Gerador 2: 20.00 MWh\n",
      "Energia gerada do Gerador 3: 15.00 MWh\n",
      "Energia gerada do Gerador 4: 40.00 MWh\n",
      "Energia gerada do Gerador 5: 30.00 MWh\n",
      "Energia gerada do Gerador 6: 40.00 MWh\n",
      "Energia gerada do Gerador 7: 0.00 MWh\n",
      "Energia gerada do Gerador 8: 10.00 MWh\n",
      "Energia gerada do Gerador 9: 20.00 MWh\n",
      "Energia gerada do Gerador 10: 0.00 MWh\n",
      "Energia gerada do Gerador 11: 65.00 MWh\n"
     ]
    }
   ],
   "source": [
    "# Relatório dos resultados de otimização\n",
    "print('Status Final do Problema de Otimização:', resultados.solver.status, '\\n')\n",
    "print('Condição de Término:', resultados.solver.termination_condition, '\\n')\n",
    "print('Resultado Função Objetivo: R$', value(model.objective), '\\n')\n",
    "\n",
    "for gerador in model.ger:\n",
    "    print('Energia gerada do {}: {:.2f} MWh'.format(gerador, model.prod[gerador].value))"
   ]
  }
 ],
 "metadata": {
  "kernelspec": {
   "display_name": ".venv",
   "language": "python",
   "name": "python3"
  },
  "language_info": {
   "codemirror_mode": {
    "name": "ipython",
    "version": 3
   },
   "file_extension": ".py",
   "mimetype": "text/x-python",
   "name": "python",
   "nbconvert_exporter": "python",
   "pygments_lexer": "ipython3",
   "version": "3.13.0"
  }
 },
 "nbformat": 4,
 "nbformat_minor": 2
}
