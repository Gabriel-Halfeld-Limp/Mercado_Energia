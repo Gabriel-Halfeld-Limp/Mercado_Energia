{
 "cells": [
  {
   "cell_type": "code",
   "execution_count": 13,
   "metadata": {},
   "outputs": [],
   "source": [
    "import numpy as np\n",
    "import pandas as pd\n",
    "import matplotlib.pyplot as plt\n",
    "from pyomo.environ import *"
   ]
  },
  {
   "cell_type": "code",
   "execution_count": 14,
   "metadata": {},
   "outputs": [],
   "source": [
    "numger = 2;\n",
    "numload = 1;\n",
    "ger = [f'Gerador {i}' for i in range(1, numger + 1)]\n",
    "custo_a = [1, 2]\n",
    "custo_b = [4, 2]\n",
    "custo_c = [5, 5]\n",
    "carga = [f'Carga {i}' for i in range(1, numload + 1)]\n",
    "demanda = 30\n",
    "\n",
    "#Modelo Concreto\n",
    "model = ConcreteModel()\n",
    "model.ger = Set(initialize=ger)\n",
    "model.carga = Set(initialize=carga)\n",
    "\n",
    "# Parâmetros\n",
    "model.a = Param(model.ger, initialize={ger[i]: custo_a[i] for i in range(numger)})\n",
    "model.b = Param(model.ger, initialize={ger[i]: custo_b[i] for i in range(numger)})\n",
    "model.c = Param(model.ger, initialize={ger[i]: custo_c[i] for i in range(numger)})\n",
    "model.demanda = Param(model.carga, initialize={carga[i]: demanda for i in range(numload)})\n",
    "\n",
    "#Variáveis\n",
    "model.pot = Var(model.ger, domain=NonNegativeReals)\n",
    "\n",
    "#Restrição\n",
    "model.restr = Constraint(expr = sum(model.pot[i] for i in model.ger) - sum(model.demanda[i] for i in model.carga) == 0)\n",
    "\n",
    "#FOB\n",
    "def FOB(model):\n",
    "    custo = sum(model.a[i]*model.pot[i]**2 + model.b[i]*model.pot[i] + model.c[i] for i in model.ger)\n",
    "    return custo\n",
    "model.FOB = Objective(rule=FOB, sense=minimize)\n",
    "\n",
    "# Adicionar o componente para armazenar duais\n",
    "model.dual = Suffix(direction=Suffix.IMPORT)\n",
    "\n",
    "#Solver\n",
    "solver = SolverFactory('ipopt')\n",
    "solver.options['dual_inf_tol'] = 1e-6\n",
    "results = solver.solve(model, tee=False)"
   ]
  },
  {
   "cell_type": "code",
   "execution_count": 15,
   "metadata": {},
   "outputs": [
    {
     "name": "stdout",
     "output_type": "stream",
     "text": [
      "Status Final do Problema de Otimização: ok \n",
      "\n",
      "Condição de Término: optimal \n",
      "\n",
      "Resultado Função Objetivo: 709.6666666666667 \n",
      "\n",
      "Resultados das Potências Vendidas (Lances dos Vendedores):\n",
      "Gerador 1: 19.666666666647487 MWh\n",
      "Preço do Gerador 1: R$470.4444444436133\n",
      "Gerador 2: 10.333333333352515 MWh\n",
      "Preço do Gerador 2: R$239.22222222305342\n",
      "Venda total:709.6666666666667$\n",
      "Custo Marginal: R$ 43.33333333316758\n"
     ]
    }
   ],
   "source": [
    "#Resultados:\n",
    "# Relatório dos resultados de otimização\n",
    "print('Status Final do Problema de Otimização:', results.solver.status, '\\n')\n",
    "print('Condição de Término:', results.solver.termination_condition, '\\n')\n",
    "print('Resultado Função Objetivo:', value(model.FOB), '\\n')\n",
    "\n",
    "# Exibindo as variáveis de potência vendida de cada lance vendedor\n",
    "print(\"Resultados das Potências Vendidas (Lances dos Vendedores):\")\n",
    "venda_total = 0\n",
    "for gerador in model.ger:\n",
    "    venda_total += model.a[gerador]*model.pot[gerador].value**2 + model.b[gerador]*model.pot[gerador].value + model.c[gerador]\n",
    "    print(f\"{gerador}: {model.pot[gerador].value} MWh\")\n",
    "    print(f\"Preço do {gerador}: R${model.a[gerador]*model.pot[gerador].value**2 + model.b[gerador]*model.pot[gerador].value + model.c[gerador]}\")\n",
    "print(f'Venda total:{venda_total}$')\n",
    "\n",
    "# Verificação e impressão do custo marginal\n",
    "if model.restr in model.dual:\n",
    "    custo_marginal = model.dual[model.restr]\n",
    "    print(\"Custo Marginal: R$\", custo_marginal)\n",
    "else:\n",
    "    print(\"Valor dual da restrição não está disponível.\")"
   ]
  }
 ],
 "metadata": {
  "kernelspec": {
   "display_name": ".venv",
   "language": "python",
   "name": "python3"
  },
  "language_info": {
   "codemirror_mode": {
    "name": "ipython",
    "version": 3
   },
   "file_extension": ".py",
   "mimetype": "text/x-python",
   "name": "python",
   "nbconvert_exporter": "python",
   "pygments_lexer": "ipython3",
   "version": "3.13.0"
  }
 },
 "nbformat": 4,
 "nbformat_minor": 2
}
