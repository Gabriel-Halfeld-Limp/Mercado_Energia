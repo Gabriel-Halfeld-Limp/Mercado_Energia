{
 "cells": [
  {
   "cell_type": "code",
   "execution_count": 9,
   "metadata": {},
   "outputs": [],
   "source": [
    "import numpy as np\n",
    "import pandas as pd\n",
    "import matplotlib.pyplot as plt\n",
    "from pyomo.environ import *"
   ]
  },
  {
   "cell_type": "code",
   "execution_count": 10,
   "metadata": {},
   "outputs": [],
   "source": [
    "bus = ['Barra 1', 'Barra 2', 'Barra 3']\n",
    "Nb = len(bus)\n",
    "\n",
    "ger = ['Gerador_1', 'Gerador_2']\n",
    "Ng = len(ger)\n",
    "p_min = [0, 0]\n",
    "p_max = [390, 9999]\n",
    "C_ener = [10, 20]\n",
    "\n",
    "loads = ['Carga_1']\n",
    "Nc = len(loads)\n",
    "dem = [450]\n",
    "\n",
    "ger_loc = pd.DataFrame([[1,0,0], [0,1,0]], columns=bus, index=ger)\n",
    "loads_loc = pd.DataFrame([[0,0,1]], columns=bus, index=loads)\n",
    "\n",
    "conex = pd.DataFrame([[0,1,1],[1,0,1],[1,1,0]], columns=bus, index=bus) #Matriz de conexões\n",
    "x_line = pd.DataFrame([[0,1,1],[1,0,1],[1,1,0]], columns=bus, index=bus) #Matriz de reatâncias\n",
    "t_line = pd.DataFrame([[0,200,260],[200,0,200],[260,200,0]], columns=bus, index=bus) #Matriz de limites térmicos das linhas"
   ]
  },
  {
   "cell_type": "code",
   "execution_count": 11,
   "metadata": {},
   "outputs": [],
   "source": [
    "model = ConcreteModel()\n",
    "\n",
    "#Geradores Térmicos:\n",
    "model.ger = Set(initialize=ger)\n",
    "model.c_ener = Param(model.ger, initialize={ger[i]: C_ener[i] for i in range(Ng)})\n",
    "model.pmax_ter = Param(model.ger, initialize={ger[i]: p_max[i] for i in range(Ng)})\n",
    "model.pmin_ter = Param(model.ger, initialize={ger[i]: p_min[i] for i in range(Ng)})\n",
    "\n",
    "#Cargas\n",
    "model.loads = Set(initialize=loads)\n",
    "model.dem = Param(model.loads, initialize={loads[i]: dem[i] for i in range(Nc)})\n",
    "\n",
    "#Barras e Localizações\n",
    "model.bus = Set(initialize=bus)\n",
    "model.ger_loc = Param(model.ger, model.bus, initialize=lambda model, g, b: ger_loc.loc[g, b], default=0, mutable=False)\n",
    "model.loads_loc = Param(model.loads, model.bus, initialize=lambda model, l, b: loads_loc.loc[l, b], default=0, mutable=False)\n",
    "model.conex = Param(model.bus, model.bus, initialize=lambda model, b1, b2: conex.loc[b1, b2], default=0, mutable=False)\n",
    "model.x_line = Param(model.bus, model.bus, initialize=lambda model, b1, b2: x_line.loc[b1, b2], default=0, mutable=False)\n",
    "model.t_line = Param(model.bus, model.bus, initialize=lambda model, b1, b2: t_line.loc[b1, b2], default=0, mutable=False)"
   ]
  },
  {
   "cell_type": "code",
   "execution_count": 12,
   "metadata": {},
   "outputs": [],
   "source": [
    "# Declarar Variáveis\n",
    "model.P_ger = Var(model.ger, domain=NonNegativeReals) # Produção dos Geradores Térmicos\n",
    "model.theta = Var(model.bus, domain=Reals)"
   ]
  },
  {
   "cell_type": "code",
   "execution_count": 13,
   "metadata": {},
   "outputs": [],
   "source": [
    "#Restrições de Limites:\n",
    "def prod_min(model, gerador):\n",
    "    return model.P_ger[gerador] >= model.pmin_ter[gerador]\n",
    "model.prod_min = Constraint(model.ger, rule=prod_min)\n",
    "\n",
    "def prod_max(model, gerador):\n",
    "    return model.P_ger[gerador] <= model.pmax_ter[gerador]\n",
    "model.prod_max = Constraint(model.ger, rule=prod_max)\n",
    "\n",
    "def flow_limit(model, barra1, barra2):\n",
    "    if model.conex[barra1, barra2] == 1:\n",
    "        return (model.theta[barra1] - model.theta[barra2])/model.x_line[barra1,barra2] <= model.t_line[barra1,barra2]\n",
    "    else:\n",
    "        return Constraint.Skip\n",
    "model.flow_limit = Constraint(model.bus, model.bus, rule=flow_limit)\n",
    "\n",
    "#Restrição de Balanço\n",
    "def balanco(model, bus):\n",
    "    thermal_generation = sum(model.P_ger[g]*model.ger_loc[g,bus] for g in model.ger)\n",
    "    load_demand = sum(model.dem[l]*model.loads_loc[l,bus] for l in model.loads)\n",
    "    line_flow = sum((model.theta[bus] - model.theta[bar])/model.x_line[bus, bar] for bar in model.bus if model.conex[bus,bar]==1)\n",
    "    return thermal_generation - load_demand == line_flow\n",
    "model.balanco = Constraint(model.bus, rule=balanco)"
   ]
  },
  {
   "cell_type": "code",
   "execution_count": 14,
   "metadata": {},
   "outputs": [],
   "source": [
    "#Função Objetivo\n",
    "def objective_rule(model):\n",
    "    return sum(model.c_ener[i]*model.P_ger[i] for i in model.ger)\n",
    "model.objective = Objective(rule=objective_rule, sense=minimize)"
   ]
  },
  {
   "cell_type": "code",
   "execution_count": 15,
   "metadata": {},
   "outputs": [],
   "source": [
    "#Otimizando:\n",
    "solver = SolverFactory('glpk')\n",
    "resultados = solver.solve(model, tee=False)"
   ]
  },
  {
   "cell_type": "code",
   "execution_count": 16,
   "metadata": {},
   "outputs": [
    {
     "name": "stdout",
     "output_type": "stream",
     "text": [
      "Status Final do Problema de Otimização: ok \n",
      "\n",
      "Condição de Término: optimal \n",
      "\n",
      "Resultado Função Objetivo: R$ 5700.0 \n",
      "\n",
      "Energia gerada do Gerador_1: 330.00 MWh\n",
      "Energia gerada do Gerador_2: 120.00 MWh\n",
      "Fluxo de Barra 1 para Barra 2: 70.0\n",
      "Fluxo de Barra 1 para Barra 3: 260.0\n",
      "Fluxo de Barra 2 para Barra 1: -70.0\n",
      "Fluxo de Barra 2 para Barra 3: 190.0\n",
      "Fluxo de Barra 3 para Barra 1: -260.0\n",
      "Fluxo de Barra 3 para Barra 2: -190.0\n"
     ]
    }
   ],
   "source": [
    "#Relatório de Resultados\n",
    "print('Status Final do Problema de Otimização:', resultados.solver.status, '\\n')\n",
    "print('Condição de Término:', resultados.solver.termination_condition, '\\n')\n",
    "print('Resultado Função Objetivo: R$', value(model.objective), '\\n')\n",
    "\n",
    "for gerador in model.ger:\n",
    "    print('Energia gerada do {}: {:.2f} MWh'.format(gerador, model.P_ger[gerador].value))\n",
    "\n",
    "for barra1 in model.bus:\n",
    "    for barra2 in model.bus:\n",
    "        if model.conex[barra1, barra2] == 1:\n",
    "            flux = (model.theta[barra1].value - model.theta[barra2].value)/model.x_line[barra1, barra2]\n",
    "            print(f'Fluxo de {barra1} para {barra2}: {flux}')"
   ]
  }
 ],
 "metadata": {
  "kernelspec": {
   "display_name": ".venv",
   "language": "python",
   "name": "python3"
  },
  "language_info": {
   "codemirror_mode": {
    "name": "ipython",
    "version": 3
   },
   "file_extension": ".py",
   "mimetype": "text/x-python",
   "name": "python",
   "nbconvert_exporter": "python",
   "pygments_lexer": "ipython3",
   "version": "3.13.0"
  }
 },
 "nbformat": 4,
 "nbformat_minor": 2
}
