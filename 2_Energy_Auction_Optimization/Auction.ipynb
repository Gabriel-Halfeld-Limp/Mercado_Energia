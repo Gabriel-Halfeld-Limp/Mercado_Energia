{
 "cells": [
  {
   "cell_type": "code",
   "execution_count": 6,
   "metadata": {},
   "outputs": [],
   "source": [
    "import numpy as np\n",
    "import pandas as pd\n",
    "import matplotlib.pyplot as plt\n",
    "from pyomo.environ import *"
   ]
  },
  {
   "cell_type": "code",
   "execution_count": 7,
   "metadata": {},
   "outputs": [],
   "source": [
    "# ID da planilha\n",
    "sheet_id = '1a2XaZct07CVfJwZSE6Ywl1VtblPurkgnVeebq94xaEg'\n",
    "# IDs das abas\n",
    "tab_ids = {'Offers':'0',\n",
    "           'Bids':'2060141366'}\n",
    "\n",
    "offers = pd.read_csv(f'https://docs.google.com/spreadsheets/d/{sheet_id}/export?format=csv&gid={tab_ids[\"Offers\"]}')\n",
    "\n",
    "bids = pd.read_csv(f'https://docs.google.com/spreadsheets/d/{sheet_id}/export?format=csv&gid={tab_ids[\"Bids\"]}')\n",
    "\n",
    "num_offers = len(offers)\n",
    "num_bids = len(bids)\n",
    "\n",
    "#Modelo Concreto\n",
    "model = ConcreteModel()\n",
    "\n",
    "#Set vendedores:\n",
    "model.offers = Set(initialize=range(num_offers))\n",
    "\n",
    "#Set compradores:\n",
    "model.bids = Set(initialize=range(num_bids))\n",
    "\n",
    "#Parâmetros dos vendedores:\n",
    "model.selling_price = Param(model.offers, initialize={i: offers.loc[i, \"$/MW\"] for i in range(num_offers)})\n",
    "model.selling_entity = Param(model.offers, initialize={i: offers.loc[i, \"Entity\"] for i in range(num_offers)},domain=Any)\n",
    "\n",
    "#Parâmetros ds compradores:\n",
    "model.buying_price = Param(model.bids, initialize={i: bids.loc[i, \"$/MW\"] for i in range(num_bids)})\n",
    "model.buying_entity = Param(model.bids, initialize={i: bids.loc[i, \"Entity\"] for i in range(num_bids)})\n",
    "\n",
    "#Variável de compra:\n",
    "buying_max = bids['Load (MW)'].tolist()\n",
    "buying_bounds = {i: (0, buying_max[i]) for i in range(num_bids)}\n",
    "model.buy = Var(model.bids, bounds=buying_bounds, domain=Reals)\n",
    "\n",
    "#Variável de venda:\n",
    "selling_max = offers['P_max (MW)'].tolist()\n",
    "selling_bounds = {i: (0, selling_max[i]) for i in range(num_offers)}\n",
    "model.sell = Var(model.offers, bounds = selling_bounds, domain=Reals)\n",
    "\n",
    "#Restrição:\n",
    "model.restr_igualdade = ConstraintList()\n",
    "model.restr_igualdade.add(expr=sum(model.buy[i] for i in model.bids) - sum(model.sell[i] for i in model.offers) == 0)\n",
    "\n",
    "#FOB:\n",
    "def fob(model):\n",
    "    compra = sum(model.buy[i]*model.buying_price[i] for i in model.bids)\n",
    "    venda = sum(model.sell[i]*model.selling_price[i] for i in model.offers)\n",
    "    return compra-venda\n",
    "model.fob = Objective(rule=fob, sense=maximize)\n",
    "model.dual = Suffix(direction=Suffix.IMPORT)\n",
    "solver = SolverFactory('glpk')\n",
    "results = solver.solve(model, tee=False)"
   ]
  },
  {
   "cell_type": "code",
   "execution_count": 8,
   "metadata": {},
   "outputs": [
    {
     "name": "stdout",
     "output_type": "stream",
     "text": [
      "Status Final do Problema de Otimização: ok \n",
      "\n",
      "Condição de Término: optimal \n",
      "\n",
      "Resultado Função Objetivo: R$ 2430.0 \n",
      "\n",
      "Resultados das Energias Vendidas:\n",
      "Lance 1 - Entidade A: 20.0 MWh\n",
      "Lance 2 - Entidade A: 40.0 MWh\n",
      "Lance 3 - Entidade A: 0.0 MWh\n",
      "Lance 4 - Entidade B: 0.0 MWh\n",
      "Lance 5 - Entidade B: 10.0 MWh\n",
      "Lance 6 - Entidade B: 0.0 MWh\n",
      "Resultados das Energias Compradas:\n",
      "Lance 1 - Entidade X: 0.0 MWh\n",
      "Lance 2 - Entidade X: 20.0 MWh\n",
      "Lance 3 - Entidade X: 5.0 MWh\n",
      "Lance 4 - Entidade Y: 0.0 MWh\n",
      "Lance 5 - Entidade Y: 30.0 MWh\n",
      "Lance 6 - Entidade Y: 15.0 MWh\n",
      "Custo Marginal: R$ 25.0\n"
     ]
    }
   ],
   "source": [
    "#Exibir os resultados:\n",
    "print('Status Final do Problema de Otimização:', results.solver.status, '\\n')\n",
    "print('Condição de Término:', results.solver.termination_condition, '\\n')\n",
    "print('Resultado Função Objetivo: R$', round(value(model.fob),2), '\\n')\n",
    "print('Resultados das Energias Vendidas:')\n",
    "for i in model.offers:\n",
    "    print(f'Lance {i+1} - Entidade {model.selling_entity[i]}: {model.sell[i].value} MWh')\n",
    "\n",
    "print('Resultados das Energias Compradas:')\n",
    "for i in model.bids:\n",
    "    print(f'Lance {i+1} - Entidade {model.buying_entity[i]}: {model.buy[i].value} MWh')\n",
    "\n",
    "# Obter o custo marginal (multiplicador de Lagrange) da restrição de igualdade\n",
    "custo_marginal = model.dual[model.restr_igualdade[1]]\n",
    "print(\"Custo Marginal: R$\", custo_marginal)\n"
   ]
  }
 ],
 "metadata": {
  "kernelspec": {
   "display_name": ".venv",
   "language": "python",
   "name": "python3"
  },
  "language_info": {
   "codemirror_mode": {
    "name": "ipython",
    "version": 3
   },
   "file_extension": ".py",
   "mimetype": "text/x-python",
   "name": "python",
   "nbconvert_exporter": "python",
   "pygments_lexer": "ipython3",
   "version": "3.13.0"
  }
 },
 "nbformat": 4,
 "nbformat_minor": 2
}
