{
 "cells": [
  {
   "cell_type": "code",
   "execution_count": 1,
   "metadata": {},
   "outputs": [],
   "source": [
    "import numpy as np\n",
    "import pandas as pd\n",
    "import matplotlib.pyplot as plt\n",
    "from pyomo.environ import *"
   ]
  },
  {
   "cell_type": "code",
   "execution_count": 2,
   "metadata": {},
   "outputs": [
    {
     "data": {
      "text/plain": [
       "{'Problem': [{'Name': 'unknown', 'Lower bound': 3.5, 'Upper bound': 3.5, 'Number of objectives': 1, 'Number of constraints': 40, 'Number of variables': 14, 'Number of nonzeros': 92, 'Sense': 'minimize'}], 'Solver': [{'Status': 'ok', 'Termination condition': 'optimal', 'Statistics': {'Branch and bound': {'Number of bounded subproblems': '3', 'Number of created subproblems': '3'}}, 'Error rc': 0, 'Time': 0.037819623947143555}], 'Solution': [OrderedDict({'number of solutions': 0, 'number of solutions displayed': 0})]}"
      ]
     },
     "execution_count": 2,
     "metadata": {},
     "output_type": "execute_result"
    }
   ],
   "source": [
    "# Definições de parâmetros\n",
    "num_variaveis = 2\n",
    "w = [1, 2, 3, 4]\n",
    "confianca = 0.75\n",
    "X = [f'X {i+1}' for i in range(num_variaveis)]\n",
    "Z = [f'Z {i+1}' for i in range(len(w))]\n",
    "pi = [1 / len(w)] * len(w)\n",
    "pi = pd.DataFrame(pi, index = w)\n",
    "\n",
    "# Definindo os parâmetros cmáximos e mínimos\n",
    "x_min = [0, 0]  # x_min para x_1 e x_2\n",
    "x_max = [10, 10]  # x_max para x_1 e x_2\n",
    "z_min = [0, 0, 0, 0]  # z_min para Z_1, Z_2, Z_3, Z_4\n",
    "z_max = [1, 1, 1, 1]  # z_max para Z_1, Z_2, Z_3, Z_4\n",
    "\n",
    "# Criando o modelo concreto\n",
    "model = ConcreteModel('McCormick')\n",
    "\n",
    "# Sets e Parâmetros\n",
    "model.w = RangeSet(len(w))\n",
    "model.i = RangeSet(len(x_min))  # Definindo para as variáveis x\n",
    "model.confianca = Param(initialize=confianca)\n",
    "\n",
    "# Inicializando parâmetros de pi (probabilidades) como dicionário\n",
    "pi_values = {i+1: 1 / len(w) for i in range(len(w))}\n",
    "model.pi = Param(model.w, initialize=pi_values)\n",
    "\n",
    "# Inicializando parâmetros de x_min, x_max, z_min e z_max\n",
    "model.x_min = Param(model.i, initialize={i+1: x_min[i] for i in range(len(x_min))})\n",
    "model.x_max = Param(model.i, initialize={i+1: x_max[i] for i in range(len(x_max))})\n",
    "model.z_min = Param(model.w, initialize={i+1: z_min[i] for i in range(len(z_min))})\n",
    "model.z_max = Param(model.w, initialize={i+1: z_max[i] for i in range(len(z_max))})\n",
    "\n",
    "# Definindo as variáveis de decisão\n",
    "model.X = Var(model.i, domain=NonNegativeReals)\n",
    "model.Z = Var(model.w, domain=Binary)\n",
    "model.k = Var(model.w, model.i, domain=NonNegativeReals)\n",
    "\n",
    "# Função objetivo (minimizar a soma das variáveis X)\n",
    "model.obj = Objective(expr=sum(model.X[i] for i in model.i), sense=minimize)\n",
    "\n",
    "# Restrições de McCormick (aquelas que ligam X e Z com a variável k)\n",
    "model.Cor = ConstraintList()\n",
    "for i in model.i:\n",
    "    for w in model.w:\n",
    "        model.Cor.add(expr=model.x_min[i]*model.Z[w] + model.X[i]*model.z_min[w] - model.x_min[i]*model.z_min[w] <= model.k[w,i])\n",
    "        model.Cor.add(expr=model.x_max[i]*model.Z[w] + model.X[i]*model.z_max[w] - model.x_max[i]*model.z_max[w] <= model.k[w,i])\n",
    "        model.Cor.add(expr=model.x_max[i]*model.Z[w] + model.X[i]*model.z_min[w] - model.x_max[i]*model.z_min[w] >= model.k[w,i])\n",
    "        model.Cor.add(expr=model.x_min[i]*model.Z[w] + model.X[i]*model.z_max[w] - model.x_min[i]*model.z_max[w] >= model.k[w,i])\n",
    "\n",
    "# Restrições de probabilidade (relacionadas à confiança)\n",
    "model.pi_constraints = ConstraintList()\n",
    "for w in model.w:\n",
    "    model.pi_constraints.add(expr=sum(model.Z[w]*model.pi[w] for w in model.w) >= model.confianca)\n",
    "\n",
    "# Restrições adicionais de k e Z\n",
    "model.kZ_constraints = ConstraintList()\n",
    "for w in model.w:\n",
    "    model.kZ_constraints.add(expr=w*model.k[w,1] + model.k[w,2] - 7*model.Z[w] >= 0)\n",
    "\n",
    "# Resolver o modelo\n",
    "opt = SolverFactory('glpk')\n",
    "opt.solve(model, tee=False)"
   ]
  },
  {
   "cell_type": "code",
   "execution_count": 3,
   "metadata": {},
   "outputs": [
    {
     "name": "stdout",
     "output_type": "stream",
     "text": [
      "X 2: 3.5\n",
      "X 3: 2.42861286636753e-16\n",
      "Z 1: 0.0\n",
      "Z 2: 1.0\n",
      "Z 3: 1.0\n",
      "Z 4: 1.0\n"
     ]
    }
   ],
   "source": [
    "# Exibindo resultados\n",
    "for i in model.i:\n",
    "    print(f\"X {i+1}: {model.X[i].value}\")\n",
    "for w in model.w:\n",
    "    print(f\"Z {w}: {model.Z[w].value}\")"
   ]
  }
 ],
 "metadata": {
  "kernelspec": {
   "display_name": ".venv",
   "language": "python",
   "name": "python3"
  },
  "language_info": {
   "codemirror_mode": {
    "name": "ipython",
    "version": 3
   },
   "file_extension": ".py",
   "mimetype": "text/x-python",
   "name": "python",
   "nbconvert_exporter": "python",
   "pygments_lexer": "ipython3",
   "version": "3.13.0"
  }
 },
 "nbformat": 4,
 "nbformat_minor": 2
}
