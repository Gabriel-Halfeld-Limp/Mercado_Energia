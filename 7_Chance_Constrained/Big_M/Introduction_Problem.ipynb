{
 "cells": [
  {
   "cell_type": "code",
   "execution_count": 1,
   "metadata": {},
   "outputs": [],
   "source": [
    "import numpy as np\n",
    "import pandas as pd\n",
    "import matplotlib.pyplot as plt\n",
    "from pyomo.environ import *"
   ]
  },
  {
   "cell_type": "code",
   "execution_count": 2,
   "metadata": {},
   "outputs": [],
   "source": [
    "num_variaveis = 2\n",
    "w = [1, 2, 3, 4]\n",
    "confianca = 0.75\n",
    "X = [f'X {i+1}' for i in range(num_variaveis)]\n",
    "Z = [f'Z {i+1}' for i in range(len(w))]\n",
    "pi = [1 / len(w)] * len(w)\n",
    "pi = pd.DataFrame(pi, index = w)\n",
    "\n",
    "M = 3.5\n",
    "model = ConcreteModel('Big M')\n",
    "\n",
    "#Sets e Parâmetros\n",
    "model.w = RangeSet(len(w))\n",
    "model.pi = Param(model.w, initialize = pi)\n",
    "model.confianca = Param(initialize = confianca)\n",
    "model.M = Param(initialize = M)\n",
    "model.i = RangeSet(num_variaveis)  # Para x_1 e x_2\n",
    "\n",
    "\n",
    "# Variáveis\n",
    "model.x = Var(model.i, domain=NonNegativeReals)\n",
    "model.Z = Var(model.w, domain=Binary)\n",
    "\n",
    "#Restrições\n",
    "def restricao1(model, omega):\n",
    "    return omega * model.x[1] + model.x[2] >= 7 - M * (1 - model.Z[omega])\n",
    "model.restricao = Constraint(model.w, rule=restricao1)\n",
    "\n",
    "def restricao2(model):\n",
    "    return sum(model.Z[j] * model.pi[j] for j in model.w) >= model.confianca\n",
    "model.restricao2 = Constraint(rule=restricao2)\n",
    "\n",
    "# Função objetivo\n",
    "model.obj = Objective(expr=sum(model.x[i] for i in model.i), sense=minimize)\n",
    "\n",
    "# Resolvendo o modelo\n",
    "solver = SolverFactory('glpk')\n",
    "result = solver.solve(model)\n",
    "\n"
   ]
  },
  {
   "cell_type": "code",
   "execution_count": 3,
   "metadata": {},
   "outputs": [
    {
     "name": "stdout",
     "output_type": "stream",
     "text": [
      "x_1: 3.5\n",
      "x_2: 0.0\n",
      "Z_1: 0.0\n",
      "Z_2: 1.0\n",
      "Z_3: 1.0\n",
      "Z_4: 1.0\n"
     ]
    }
   ],
   "source": [
    "# Exibindo os resultados\n",
    "print(\"x_1:\", model.x[1].value)\n",
    "print(\"x_2:\", model.x[2].value)\n",
    "for k in model.w:\n",
    "    print(f\"Z_{k}:\", model.Z[k].value)"
   ]
  },
  {
   "cell_type": "markdown",
   "metadata": {},
   "source": [
    "**1)O que acontece se alterar o nível de confiança?**\n",
    "\n",
    "As variáveis binárias de Z serão ativadas conforme o aumento da confiança, e serão desativadas com a diminuição.\n",
    "Isso impacta nos valores das variáveis também. Com o aumento da confiança a variável x1 se aproxima de 7.\n",
    "\n",
    "**2)O que acontece se o valor de M não for adequado?**\n",
    "Com valores de M superiores a 3.5, X1 retornará 3.5 normalmente, porém com valores inferiores a 3.5 a variável X1 se aproxima de 7"
   ]
  }
 ],
 "metadata": {
  "kernelspec": {
   "display_name": ".venv",
   "language": "python",
   "name": "python3"
  },
  "language_info": {
   "codemirror_mode": {
    "name": "ipython",
    "version": 3
   },
   "file_extension": ".py",
   "mimetype": "text/x-python",
   "name": "python",
   "nbconvert_exporter": "python",
   "pygments_lexer": "ipython3",
   "version": "3.13.0"
  }
 },
 "nbformat": 4,
 "nbformat_minor": 2
}
